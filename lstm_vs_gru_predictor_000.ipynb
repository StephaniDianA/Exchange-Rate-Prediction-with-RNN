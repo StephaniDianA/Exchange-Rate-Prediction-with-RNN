{
 "cells": [
  {
   "cell_type": "markdown",
   "metadata": {
    "nbpresent": {
     "id": "01ac3bbb-1083-4fd8-b71a-9ceb84cd8a04"
    }
   },
   "source": [
    "# Step 1 - Data Analysis"
   ]
  },
  {
   "cell_type": "markdown",
   "metadata": {
    "nbpresent": {
     "id": "b3adf413-e69e-4949-a40c-4beaf7038163"
    }
   },
   "source": [
    "## Step 1.1 - Importing the Libraries"
   ]
  },
  {
   "cell_type": "code",
   "execution_count": 58,
   "metadata": {
    "nbpresent": {
     "id": "98d85c03-6bcc-4710-8a80-004a045d7ea9"
    }
   },
   "outputs": [],
   "source": [
    "from pandas import read_csv\n",
    "from pandas import datetime\n",
    "from pandas import concat\n",
    "from pandas import DataFrame\n",
    "from matplotlib import pyplot\n",
    "from sklearn import preprocessing\n",
    "from sklearn.preprocessing import MinMaxScaler\n",
    "from sklearn.metrics import mean_squared_error\n",
    "from keras.models import Sequential\n",
    "from keras.layers import Dense\n",
    "from keras.layers import LSTM\n",
    "from numpy import concatenate\n",
    "from math import sqrt\n",
    "from keras import regularizers\n",
    "import pandas as pd\n",
    "from keras.utils.vis_utils import plot_model\n",
    "from pandas.tools.plotting import lag_plot\n",
    "from pandas import Series\n",
    "from pandas.tools.plotting import autocorrelation_plot\n",
    "import numpy as np\n",
    "import pydot\n",
    "import graphviz"
   ]
  },
  {
   "cell_type": "markdown",
   "metadata": {
    "nbpresent": {
     "id": "57fd29b3-e590-471c-8545-122c0e76d135"
    }
   },
   "source": [
    "## Step 1.2 - Load the Dataset"
   ]
  },
  {
   "cell_type": "code",
   "execution_count": 59,
   "metadata": {
    "nbpresent": {
     "id": "44e799fd-9ca4-4bf3-8467-5a0c7ba1abf1"
    }
   },
   "outputs": [],
   "source": [
    "def parser(x):\n",
    "    return datetime.strptime(x,'%Y/%m/%d')\n",
    "dataset = read_csv('data/USD-IDR-011016-311218.csv',header=0,parse_dates=[1],date_parser=parser)\n",
    "#series = Series.from_csv('data/USD-IDR-011016-311218.csv',header=0)\n",
    "#autocorrelation_plot(series)\n",
    "#pyplot.show()"
   ]
  },
  {
   "cell_type": "code",
   "execution_count": 60,
   "metadata": {
    "nbpresent": {
     "id": "d01e3a89-d631-40b2-82dd-38c4a51847ee"
    }
   },
   "outputs": [
    {
     "name": "stdout",
     "output_type": "stream",
     "text": [
      "   Jul.Day YYYY/MM/DD  Wdy  IDR/USD\n",
      "0  2457392 2016-01-04  Mon    13969\n",
      "1  2457393 2016-01-05  Tue    13854\n",
      "2  2457394 2016-01-06  Wed    13945\n",
      "3  2457395 2016-01-07  Thu    13922\n",
      "4  2457396 2016-01-08  Fri    13874\n"
     ]
    }
   ],
   "source": [
    "print(dataset.head())"
   ]
  },
  {
   "cell_type": "code",
   "execution_count": 61,
   "metadata": {},
   "outputs": [
    {
     "data": {
      "text/html": [
       "<div>\n",
       "<style scoped>\n",
       "    .dataframe tbody tr th:only-of-type {\n",
       "        vertical-align: middle;\n",
       "    }\n",
       "\n",
       "    .dataframe tbody tr th {\n",
       "        vertical-align: top;\n",
       "    }\n",
       "\n",
       "    .dataframe thead th {\n",
       "        text-align: right;\n",
       "    }\n",
       "</style>\n",
       "<table border=\"1\" class=\"dataframe\">\n",
       "  <thead>\n",
       "    <tr style=\"text-align: right;\">\n",
       "      <th></th>\n",
       "      <th>Jul.Day</th>\n",
       "      <th>IDR/USD</th>\n",
       "    </tr>\n",
       "  </thead>\n",
       "  <tbody>\n",
       "    <tr>\n",
       "      <th>count</th>\n",
       "      <td>7.490000e+02</td>\n",
       "      <td>749.000000</td>\n",
       "    </tr>\n",
       "    <tr>\n",
       "      <th>mean</th>\n",
       "      <td>2.457936e+06</td>\n",
       "      <td>13637.456609</td>\n",
       "    </tr>\n",
       "    <tr>\n",
       "      <th>std</th>\n",
       "      <td>3.160145e+02</td>\n",
       "      <td>546.606783</td>\n",
       "    </tr>\n",
       "    <tr>\n",
       "      <th>min</th>\n",
       "      <td>2.457392e+06</td>\n",
       "      <td>12946.000000</td>\n",
       "    </tr>\n",
       "    <tr>\n",
       "      <th>25%</th>\n",
       "      <td>2.457661e+06</td>\n",
       "      <td>13282.000000</td>\n",
       "    </tr>\n",
       "    <tr>\n",
       "      <th>50%</th>\n",
       "      <td>2.457934e+06</td>\n",
       "      <td>13414.000000</td>\n",
       "    </tr>\n",
       "    <tr>\n",
       "      <th>75%</th>\n",
       "      <td>2.458211e+06</td>\n",
       "      <td>13836.000000</td>\n",
       "    </tr>\n",
       "    <tr>\n",
       "      <th>max</th>\n",
       "      <td>2.458484e+06</td>\n",
       "      <td>15286.000000</td>\n",
       "    </tr>\n",
       "  </tbody>\n",
       "</table>\n",
       "</div>"
      ],
      "text/plain": [
       "            Jul.Day       IDR/USD\n",
       "count  7.490000e+02    749.000000\n",
       "mean   2.457936e+06  13637.456609\n",
       "std    3.160145e+02    546.606783\n",
       "min    2.457392e+06  12946.000000\n",
       "25%    2.457661e+06  13282.000000\n",
       "50%    2.457934e+06  13414.000000\n",
       "75%    2.458211e+06  13836.000000\n",
       "max    2.458484e+06  15286.000000"
      ]
     },
     "execution_count": 61,
     "metadata": {},
     "output_type": "execute_result"
    }
   ],
   "source": [
    "dataset.describe()"
   ]
  },
  {
   "cell_type": "code",
   "execution_count": 62,
   "metadata": {},
   "outputs": [
    {
     "data": {
      "text/plain": [
       "(749, 4)"
      ]
     },
     "execution_count": 62,
     "metadata": {},
     "output_type": "execute_result"
    }
   ],
   "source": [
    "dataset.shape"
   ]
  },
  {
   "cell_type": "markdown",
   "metadata": {},
   "source": [
    "## Step 1.3 -  Plot a graph to show the trend in the exchange rates"
   ]
  },
  {
   "cell_type": "code",
   "execution_count": 63,
   "metadata": {
    "nbpresent": {
     "id": "e2ee75b1-4c9b-4864-af10-f398962f1a91"
    }
   },
   "outputs": [
    {
     "data": {
      "image/png": "[encoded data removed]",
      "text/plain": [
       "<Figure size 432x288 with 1 Axes>"
      ]
     },
     "metadata": {
      "needs_background": "light"
     },
     "output_type": "display_data"
    }
   ],
   "source": [
    "dataset.plot(y='IDR/USD',x='YYYY/MM/DD')\n",
    "pyplot.show()"
   ]
  },
  {
   "cell_type": "code",
   "execution_count": 64,
   "metadata": {
    "nbpresent": {
     "id": "962043b9-36d6-4c31-a7e7-ce36d9a69cb2"
    }
   },
   "outputs": [],
   "source": [
    "# load dataset\n",
    "dataset = read_csv('data/USD-IDR-011016-311218.csv', usecols = [3])\n",
    "values = dataset.values\n",
    "values = values.astype('float32')\n",
    "scaler = MinMaxScaler(feature_range=(0, 1))\n",
    "scaled = scaler.fit_transform(values)"
   ]
  },
  {
   "cell_type": "code",
   "execution_count": 65,
   "metadata": {
    "nbpresent": {
     "id": "1c2921fc-1361-4ca1-ab28-8f75128837c2"
    }
   },
   "outputs": [],
   "source": [
    "train = int(len(scaled) * 0.80)\n",
    "test = len(scaled) - train"
   ]
  },
  {
   "cell_type": "code",
   "execution_count": 66,
   "metadata": {},
   "outputs": [
    {
     "name": "stdout",
     "output_type": "stream",
     "text": [
      "599 150\n"
     ]
    }
   ],
   "source": [
    "print(train , test)"
   ]
  },
  {
   "cell_type": "code",
   "execution_count": 67,
   "metadata": {},
   "outputs": [
    {
     "name": "stdout",
     "output_type": "stream",
     "text": [
      "[[0.43717957]\n",
      " [0.38803387]\n",
      " [0.4269228 ]\n",
      " [0.41709375]\n",
      " [0.39658117]\n",
      " [0.41880322]\n",
      " [0.39700842]\n",
      " [0.39829063]\n",
      " [0.43076897]\n",
      " [0.38034153]\n",
      " [0.42863226]\n",
      " [0.37478638]\n",
      " [0.405128  ]\n",
      " [0.43504238]\n",
      " [0.39658117]\n",
      " [0.38076925]\n",
      " [0.41752148]\n",
      " [0.40940142]\n",
      " [0.42222214]\n",
      " [0.36666632]\n",
      " [0.27863216]\n",
      " [0.2927351 ]\n",
      " [0.3260684 ]\n",
      " [0.27521372]\n",
      " [0.2811966 ]\n",
      " [0.2999997 ]\n",
      " [0.25769234]\n",
      " [0.2072649 ]\n",
      " [0.24700832]\n",
      " [0.20769215]\n",
      " [0.21794844]\n",
      " [0.25769234]\n",
      " [0.21623898]\n",
      " [0.24957275]\n",
      " [0.20128202]\n",
      " [0.18974352]\n",
      " [0.1790595 ]\n",
      " [0.21153831]\n",
      " [0.19957256]\n",
      " [0.18931627]\n",
      " [0.19700861]\n",
      " [0.16623926]\n",
      " [0.14017057]\n",
      " [0.0551281 ]\n",
      " [0.04017067]\n",
      " [0.07692289]\n",
      " [0.06794882]\n",
      " [0.07051277]\n",
      " [0.05897427]\n",
      " [0.03675222]\n",
      " [0.12008524]\n",
      " [0.12136745]\n",
      " [0.07222223]\n",
      " [0.07136726]\n",
      " [0.10897446]\n",
      " [0.10128212]\n",
      " [0.10982895]\n",
      " [0.13803387]\n",
      " [0.15854692]\n",
      " [0.20341873]\n",
      " [0.12008524]\n",
      " [0.12393141]\n",
      " [0.09957266]\n",
      " [0.09487152]\n",
      " [0.09572649]\n",
      " [0.1123929 ]\n",
      " [0.09273481]\n",
      " [0.07692289]\n",
      " [0.09871769]\n",
      " [0.04871798]\n",
      " [0.10341883]\n",
      " [0.12264967]\n",
      " [0.07435894]\n",
      " [0.11324787]\n",
      " [0.10128212]\n",
      " [0.0884614 ]\n",
      " [0.06709385]\n",
      " [0.1094017 ]\n",
      " [0.11196566]\n",
      " [0.08290577]\n",
      " [0.09230757]\n",
      " [0.1102562 ]\n",
      " [0.1123929 ]\n",
      " [0.11196566]\n",
      " [0.11495733]\n",
      " [0.14401674]\n",
      " [0.13034153]\n",
      " [0.10213661]\n",
      " [0.13376045]\n",
      " [0.1188035 ]\n",
      " [0.18162394]\n",
      " [0.13247871]\n",
      " [0.16837597]\n",
      " [0.14529896]\n",
      " [0.14444447]\n",
      " [0.16324759]\n",
      " [0.24615383]\n",
      " [0.25470066]\n",
      " [0.3072648 ]\n",
      " [0.29444408]\n",
      " [0.30683756]\n",
      " [0.25598288]\n",
      " [0.28162384]\n",
      " [0.29914522]\n",
      " [0.2948718 ]\n",
      " [0.29017067]\n",
      " [0.29188013]\n",
      " [0.19059801]\n",
      " [0.16068363]\n",
      " [0.1188035 ]\n",
      " [0.13504267]\n",
      " [0.13717937]\n",
      " [0.16196585]\n",
      " [0.18119669]\n",
      " [0.15683746]\n",
      " [0.15427351]\n",
      " [0.14102554]\n",
      " [0.10982895]\n",
      " [0.11452961]\n",
      " [0.11581182]\n",
      " [0.14401674]\n",
      " [0.1739316 ]\n",
      " [0.17051268]\n",
      " [0.11794853]\n",
      " [0.07521343]\n",
      " [0.1405983 ]\n",
      " [0.06837606]\n",
      " [0.0572648 ]\n",
      " [0.08119631]\n",
      " [0.07222223]\n",
      " [0.05427361]\n",
      " [0.07735014]\n",
      " [0.08589745]\n",
      " [0.06410265]\n",
      " [0.04230738]\n",
      " [0.06837606]\n",
      " [0.07222223]\n",
      " [0.03547001]\n",
      " [0.09658098]\n",
      " [0.04743576]\n",
      " [0.04358959]\n",
      " [0.06324768]\n",
      " [0.1123929 ]\n",
      " [0.06111097]\n",
      " [0.04017067]\n",
      " [0.04059839]\n",
      " [0.06111097]\n",
      " [0.0572648 ]\n",
      " [0.09017086]\n",
      " [0.0999999 ]\n",
      " [0.09316206]\n",
      " [0.07307673]\n",
      " [0.04871798]\n",
      " [0.08205128]\n",
      " [0.05555534]\n",
      " [0.0457263 ]\n",
      " [0.07649565]\n",
      " [0.08632469]\n",
      " [0.09572649]\n",
      " [0.08333302]\n",
      " [0.11111116]\n",
      " [0.09358978]\n",
      " [0.1102562 ]\n",
      " [0.10897446]\n",
      " [0.11324787]\n",
      " [0.14487171]\n",
      " [0.16965818]\n",
      " [0.13290596]\n",
      " [0.12521362]\n",
      " [0.13589716]\n",
      " [0.06794882]\n",
      " [0.03376055]\n",
      " [0.03974342]\n",
      " [0.09358978]\n",
      " [0.05598259]\n",
      " [0.09444427]\n",
      " [0.10384607]\n",
      " [0.08546972]\n",
      " [0.11410236]\n",
      " [0.10042715]\n",
      " [0.0645299 ]\n",
      " [0.10256386]\n",
      " [0.03974342]\n",
      " [0.03803396]\n",
      " [0.05128193]\n",
      " [0.01794863]\n",
      " [0.01538467]\n",
      " [0.01068354]\n",
      " [0.01752138]\n",
      " [0.02606821]\n",
      " [0.04017067]\n",
      " [0.04358959]\n",
      " [0.00213671]\n",
      " [0.04145288]\n",
      " [0.01410246]\n",
      " [0.03034163]\n",
      " [0.06068373]\n",
      " [0.03931618]\n",
      " [0.02649546]\n",
      " [0.01196575]\n",
      " [0.01324797]\n",
      " [0.05170918]\n",
      " [0.04999971]\n",
      " [0.02222204]\n",
      " [0.        ]\n",
      " [0.01068354]\n",
      " [0.02136755]\n",
      " [0.02093983]\n",
      " [0.02863216]\n",
      " [0.01837587]\n",
      " [0.02307701]\n",
      " [0.0760684 ]\n",
      " [0.03205109]\n",
      " [0.07478619]\n",
      " [0.0551281 ]\n",
      " [0.08504248]\n",
      " [0.05854702]\n",
      " [0.15811968]\n",
      " [0.16623926]\n",
      " [0.20085478]\n",
      " [0.20640993]\n",
      " [0.18760681]\n",
      " [0.20982885]\n",
      " [0.21282053]\n",
      " [0.22393131]\n",
      " [0.28931618]\n",
      " [0.24273491]\n",
      " [0.2521367 ]\n",
      " [0.26709366]\n",
      " [0.26324797]\n",
      " [0.28076887]\n",
      " [0.26623917]\n",
      " [0.19658089]\n",
      " [0.20042706]\n",
      " [0.18803406]\n",
      " [0.11752129]\n",
      " [0.1500001 ]\n",
      " [0.13974333]\n",
      " [0.1311965 ]\n",
      " [0.13247871]\n",
      " [0.19273472]\n",
      " [0.16752148]\n",
      " [0.19273472]\n",
      " [0.18461514]\n",
      " [0.2521367 ]\n",
      " [0.22307682]\n",
      " [0.19444418]\n",
      " [0.20341873]\n",
      " [0.23162365]\n",
      " [0.20555544]\n",
      " [0.2102561 ]\n",
      " [0.20555544]\n",
      " [0.17222214]\n",
      " [0.17222214]\n",
      " [0.17521334]\n",
      " [0.16880322]\n",
      " [0.17948723]\n",
      " [0.13546991]\n",
      " [0.13760662]\n",
      " [0.20769215]\n",
      " [0.16282034]\n",
      " [0.15555525]\n",
      " [0.16367531]\n",
      " [0.22564077]\n",
      " [0.20384598]\n",
      " [0.14487171]\n",
      " [0.16923046]\n",
      " [0.18162394]\n",
      " [0.18376064]\n",
      " [0.1769228 ]\n",
      " [0.14957237]\n",
      " [0.17521334]\n",
      " [0.14487171]\n",
      " [0.19658089]\n",
      " [0.18760681]\n",
      " [0.15128183]\n",
      " [0.14700842]\n",
      " [0.14017057]\n",
      " [0.16880322]\n",
      " [0.16752148]\n",
      " [0.1769228 ]\n",
      " [0.17307663]\n",
      " [0.16196585]\n",
      " [0.18717957]\n",
      " [0.20128202]\n",
      " [0.15982914]\n",
      " [0.18418789]\n",
      " [0.18162394]\n",
      " [0.18034172]\n",
      " [0.1863246 ]\n",
      " [0.17093992]\n",
      " [0.18717957]\n",
      " [0.20213652]\n",
      " [0.19829035]\n",
      " [0.19957256]\n",
      " [0.17179489]\n",
      " [0.18162394]\n",
      " [0.16666651]\n",
      " [0.15982914]\n",
      " [0.16410255]\n",
      " [0.15897417]\n",
      " [0.15811968]\n",
      " [0.18076897]\n",
      " [0.17564106]\n",
      " [0.15982914]\n",
      " [0.17136717]\n",
      " [0.1653843 ]\n",
      " [0.18247843]\n",
      " [0.18034172]\n",
      " [0.17820501]\n",
      " [0.18205118]\n",
      " [0.14230776]\n",
      " [0.16068363]\n",
      " [0.18931627]\n",
      " [0.1435895 ]\n",
      " [0.14188004]\n",
      " [0.14102554]\n",
      " [0.13589716]\n",
      " [0.17136717]\n",
      " [0.16623926]\n",
      " [0.1521368 ]\n",
      " [0.13632488]\n",
      " [0.14145279]\n",
      " [0.12948704]\n",
      " [0.16666651]\n",
      " [0.17136717]\n",
      " [0.18076897]\n",
      " [0.1863246 ]\n",
      " [0.11623907]\n",
      " [0.16196585]\n",
      " [0.13803387]\n",
      " [0.13717937]\n",
      " [0.19059801]\n",
      " [0.15982914]\n",
      " [0.15769196]\n",
      " [0.16965818]\n",
      " [0.15683746]\n",
      " [0.15384579]\n",
      " [0.16324759]\n",
      " [0.1957264 ]\n",
      " [0.15470076]\n",
      " [0.15769196]\n",
      " [0.12735033]\n",
      " [0.16367531]\n",
      " [0.17136717]\n",
      " [0.17008543]\n",
      " [0.14188004]\n",
      " [0.17521334]\n",
      " [0.16282034]\n",
      " [0.15982914]\n",
      " [0.16111088]\n",
      " [0.15683746]\n",
      " [0.16666651]\n",
      " [0.17948723]\n",
      " [0.17948723]\n",
      " [0.18119669]\n",
      " [0.17222214]\n",
      " [0.16324759]\n",
      " [0.1760683 ]\n",
      " [0.12478638]\n",
      " [0.15982914]\n",
      " [0.1435895 ]\n",
      " [0.12478638]\n",
      " [0.16923046]\n",
      " [0.14401674]\n",
      " [0.12222195]\n",
      " [0.17435884]\n",
      " [0.13717937]\n",
      " [0.15555525]\n",
      " [0.1833334 ]\n",
      " [0.13760662]\n",
      " [0.18205118]\n",
      " [0.16025639]\n",
      " [0.16282034]\n",
      " [0.14316225]\n",
      " [0.18461514]\n",
      " [0.16880322]\n",
      " [0.18717957]\n",
      " [0.17093992]\n",
      " [0.20427322]\n",
      " [0.20470095]\n",
      " [0.2188034 ]\n",
      " [0.16282034]\n",
      " [0.19999981]\n",
      " [0.16794872]\n",
      " [0.16666651]\n",
      " [0.14829063]\n",
      " [0.1333332 ]\n",
      " [0.18888855]\n",
      " [0.17264938]\n",
      " [0.15598297]\n",
      " [0.15341854]\n",
      " [0.15256405]\n",
      " [0.15940142]\n",
      " [0.18717957]\n",
      " [0.1435895 ]\n",
      " [0.15683746]\n",
      " [0.17777777]\n",
      " [0.18589735]\n",
      " [0.15256405]\n",
      " [0.16794872]\n",
      " [0.18290567]\n",
      " [0.1854701 ]\n",
      " [0.1739316 ]\n",
      " [0.18290567]\n",
      " [0.2051282 ]\n",
      " [0.17991447]\n",
      " [0.15683746]\n",
      " [0.18931627]\n",
      " [0.18461514]\n",
      " [0.1739316 ]\n",
      " [0.17948723]\n",
      " [0.16367531]\n",
      " [0.14658117]\n",
      " [0.14230776]\n",
      " [0.15726471]\n",
      " [0.19829035]\n",
      " [0.16666651]\n",
      " [0.16111088]\n",
      " [0.1521368 ]\n",
      " [0.16410255]\n",
      " [0.17222214]\n",
      " [0.1029911 ]\n",
      " [0.10128212]\n",
      " [0.11538458]\n",
      " [0.12863255]\n",
      " [0.13376045]\n",
      " [0.12606812]\n",
      " [0.1521368 ]\n",
      " [0.17051268]\n",
      " [0.16837597]\n",
      " [0.13760662]\n",
      " [0.12735033]\n",
      " [0.13846159]\n",
      " [0.21367502]\n",
      " [0.23290586]\n",
      " [0.2508545 ]\n",
      " [0.20213652]\n",
      " [0.2760682 ]\n",
      " [0.2739315 ]\n",
      " [0.20170927]\n",
      " [0.23333311]\n",
      " [0.23418808]\n",
      " [0.21196556]\n",
      " [0.273077  ]\n",
      " [0.26111078]\n",
      " [0.26794863]\n",
      " [0.22478628]\n",
      " [0.23333311]\n",
      " [0.26752138]\n",
      " [0.2636752 ]\n",
      " [0.25769234]\n",
      " [0.27777767]\n",
      " [0.22564077]\n",
      " [0.27350426]\n",
      " [0.30085468]\n",
      " [0.25897408]\n",
      " [0.30341864]\n",
      " [0.26752138]\n",
      " [0.2636752 ]\n",
      " [0.23546982]\n",
      " [0.20940161]\n",
      " [0.262393  ]\n",
      " [0.2188034 ]\n",
      " [0.2542734 ]\n",
      " [0.23760653]\n",
      " [0.23376036]\n",
      " [0.25641012]\n",
      " [0.27435875]\n",
      " [0.26196575]\n",
      " [0.2790599 ]\n",
      " [0.22222233]\n",
      " [0.27692318]\n",
      " [0.2542734 ]\n",
      " [0.24829054]\n",
      " [0.24487162]\n",
      " [0.2572646 ]\n",
      " [0.22863245]\n",
      " [0.24914503]\n",
      " [0.26495695]\n",
      " [0.2542734 ]\n",
      " [0.23888874]\n",
      " [0.23205137]\n",
      " [0.26709366]\n",
      " [0.24487162]\n",
      " [0.25256395]\n",
      " [0.25      ]\n",
      " [0.2572646 ]\n",
      " [0.24871778]\n",
      " [0.28888893]\n",
      " [0.2405982 ]\n",
      " [0.25470066]\n",
      " [0.26410246]\n",
      " [0.24444437]\n",
      " [0.25683737]\n",
      " [0.26794863]\n",
      " [0.2760682 ]\n",
      " [0.2521367 ]\n",
      " [0.2948718 ]\n",
      " [0.21923065]\n",
      " [0.22649574]\n",
      " [0.21837616]\n",
      " [0.2290597 ]\n",
      " [0.17564106]\n",
      " [0.19017076]\n",
      " [0.20982885]\n",
      " [0.16623926]\n",
      " [0.1521368 ]\n",
      " [0.17564106]\n",
      " [0.17435884]\n",
      " [0.1769228 ]\n",
      " [0.18675184]\n",
      " [0.13162374]\n",
      " [0.19230747]\n",
      " [0.19017076]\n",
      " [0.13846159]\n",
      " [0.13034153]\n",
      " [0.12905979]\n",
      " [0.19743586]\n",
      " [0.19401693]\n",
      " [0.17777777]\n",
      " [0.17564106]\n",
      " [0.21837616]\n",
      " [0.26623917]\n",
      " [0.28803396]\n",
      " [0.23247862]\n",
      " [0.31324768]\n",
      " [0.2615385 ]\n",
      " [0.3217945 ]\n",
      " [0.32051277]\n",
      " [0.30256414]\n",
      " [0.27735043]\n",
      " [0.29230738]\n",
      " [0.26752138]\n",
      " [0.29017067]\n",
      " [0.30769205]\n",
      " [0.28888893]\n",
      " [0.2970085 ]\n",
      " [0.3217945 ]\n",
      " [0.35341883]\n",
      " [0.37264967]\n",
      " [0.3282051 ]\n",
      " [0.36709404]\n",
      " [0.3311963 ]\n",
      " [0.35341883]\n",
      " [0.34444427]\n",
      " [0.3675213 ]\n",
      " [0.36324787]\n",
      " [0.3376069 ]\n",
      " [0.3521366 ]\n",
      " [0.32991457]\n",
      " [0.3551283 ]\n",
      " [0.3508544 ]\n",
      " [0.3499999 ]\n",
      " [0.35854673]\n",
      " [0.33589745]\n",
      " [0.37521362]\n",
      " [0.3260684 ]\n",
      " [0.31794882]\n",
      " [0.33333302]\n",
      " [0.32948685]\n",
      " [0.33589745]\n",
      " [0.35470057]\n",
      " [0.35341883]\n",
      " [0.3384614 ]\n",
      " [0.33290577]\n",
      " [0.38034153]\n",
      " [0.32863235]\n",
      " [0.37735033]\n",
      " [0.38290596]\n",
      " [0.3188033 ]\n",
      " [0.37478638]\n",
      " [0.36196566]\n",
      " [0.3269229 ]\n",
      " [0.33589745]\n",
      " [0.37991428]\n",
      " [0.42863226]\n",
      " [0.42649555]\n",
      " [0.44529915]\n",
      " [0.37777758]\n",
      " [0.37564087]\n",
      " [0.42991447]\n",
      " [0.44444418]\n",
      " [0.43717957]\n",
      " [0.44188023]\n",
      " [0.44145298]\n",
      " [0.44316244]\n",
      " [0.48888874]\n",
      " [0.50470066]\n",
      " [0.4666667 ]\n",
      " [0.40341854]\n",
      " [0.4666667 ]\n",
      " [0.4487176 ]\n",
      " [0.48290586]\n",
      " [0.4790597 ]\n",
      " [0.51623917]\n",
      " [0.53888893]\n",
      " [0.51410246]\n",
      " [0.52136755]]\n"
     ]
    }
   ],
   "source": [
    "train = scaled[0:train]\n",
    "print(train)"
   ]
  },
  {
   "cell_type": "code",
   "execution_count": 68,
   "metadata": {},
   "outputs": [],
   "source": [
    "test = scaled[len(train) : ]"
   ]
  },
  {
   "cell_type": "code",
   "execution_count": 69,
   "metadata": {},
   "outputs": [],
   "source": [
    "train = train.reshape(len(train) , 1)\n",
    "test = test.reshape(len(test) , 1)"
   ]
  },
  {
   "cell_type": "code",
   "execution_count": 70,
   "metadata": {},
   "outputs": [
    {
     "name": "stdout",
     "output_type": "stream",
     "text": [
      "(599, 1) (150, 1)\n"
     ]
    }
   ],
   "source": [
    "print(train.shape , test.shape)"
   ]
  },
  {
   "cell_type": "code",
   "execution_count": 71,
   "metadata": {},
   "outputs": [],
   "source": [
    "def process_data(data , n_features):\n",
    "    dataX, dataY = [], []\n",
    "    for i in range(len(data)-n_features-1):\n",
    "        a = data[i:(i+n_features), 0]\n",
    "        dataX.append(a)\n",
    "        dataY.append(data[i + n_features, 0])\n",
    "    return np.array(dataX), np.array(dataY)"
   ]
  },
  {
   "cell_type": "code",
   "execution_count": 72,
   "metadata": {
    "nbpresent": {
     "id": "0aaff1c2-2b17-41bd-a965-a8f0d2479c20"
    },
    "scrolled": true
   },
   "outputs": [
    {
     "name": "stdout",
     "output_type": "stream",
     "text": [
      "(596, 2) (596,) (147, 2) (147,)\n"
     ]
    }
   ],
   "source": [
    "n_features = 2\n",
    "\n",
    "trainX, trainY = process_data(train, n_features)\n",
    "testX, testY = process_data(test, n_features)\n",
    "print(trainX.shape , trainY.shape , testX.shape , testY.shape)"
   ]
  },
  {
   "cell_type": "code",
   "execution_count": 73,
   "metadata": {},
   "outputs": [],
   "source": [
    "trainX = trainX.reshape(trainX.shape[0] , 1 ,trainX.shape[1])\n",
    "testX = testX.reshape(testX.shape[0] , 1 ,testX.shape[1])"
   ]
  },
  {
   "cell_type": "code",
   "execution_count": 74,
   "metadata": {},
   "outputs": [],
   "source": [
    "model = Sequential()\n",
    "model.add(LSTM(500, input_shape=(trainX.shape[1], trainX.shape[2]),kernel_regularizer=regularizers.l1(0.01)))\n",
    "model.add(Dense(1))\n",
    "plot_model(model, to_file='model.png',show_shapes=True)\n",
    "model.compile(loss='mae', optimizer='adam',metrics=['mse'])"
   ]
  },
  {
   "cell_type": "code",
   "execution_count": 75,
   "metadata": {},
   "outputs": [
    {
     "name": "stdout",
     "output_type": "stream",
     "text": [
      "Train on 596 samples, validate on 147 samples\n",
      "Epoch 1/100\n",
      " - 1s - loss: 1.1811 - mean_squared_error: 0.0389 - val_loss: 1.5215 - val_mean_squared_error: 0.4284\n",
      "Epoch 2/100\n",
      " - 0s - loss: 0.9296 - mean_squared_error: 0.0242 - val_loss: 1.2706 - val_mean_squared_error: 0.3603\n",
      "Epoch 3/100\n",
      " - 0s - loss: 0.7061 - mean_squared_error: 0.0140 - val_loss: 1.0492 - val_mean_squared_error: 0.3028\n",
      "Epoch 4/100\n",
      " - 0s - loss: 0.5305 - mean_squared_error: 0.0098 - val_loss: 0.8707 - val_mean_squared_error: 0.2689\n",
      "Epoch 5/100\n",
      " - 0s - loss: 0.4022 - mean_squared_error: 0.0100 - val_loss: 0.7463 - val_mean_squared_error: 0.2645\n",
      "Epoch 6/100\n",
      " - 0s - loss: 0.2974 - mean_squared_error: 0.0108 - val_loss: 0.6681 - val_mean_squared_error: 0.2798\n",
      "Epoch 7/100\n",
      " - 0s - loss: 0.2127 - mean_squared_error: 0.0112 - val_loss: 0.6184 - val_mean_squared_error: 0.3000\n",
      "Epoch 8/100\n",
      " - 0s - loss: 0.1540 - mean_squared_error: 0.0115 - val_loss: 0.5855 - val_mean_squared_error: 0.3107\n",
      "Epoch 9/100\n",
      " - 0s - loss: 0.1197 - mean_squared_error: 0.0115 - val_loss: 0.5648 - val_mean_squared_error: 0.3086\n",
      "Epoch 10/100\n",
      " - 0s - loss: 0.1089 - mean_squared_error: 0.0112 - val_loss: 0.5541 - val_mean_squared_error: 0.3020\n",
      "Epoch 11/100\n",
      " - 0s - loss: 0.1008 - mean_squared_error: 0.0110 - val_loss: 0.5401 - val_mean_squared_error: 0.2983\n",
      "Epoch 12/100\n",
      " - 0s - loss: 0.0930 - mean_squared_error: 0.0110 - val_loss: 0.5364 - val_mean_squared_error: 0.2991\n",
      "Epoch 13/100\n",
      " - 0s - loss: 0.0898 - mean_squared_error: 0.0111 - val_loss: 0.5345 - val_mean_squared_error: 0.3012\n",
      "Epoch 14/100\n",
      " - 0s - loss: 0.0869 - mean_squared_error: 0.0112 - val_loss: 0.5334 - val_mean_squared_error: 0.3016\n",
      "Epoch 15/100\n",
      " - 0s - loss: 0.0854 - mean_squared_error: 0.0112 - val_loss: 0.5332 - val_mean_squared_error: 0.3028\n",
      "Epoch 16/100\n",
      " - 0s - loss: 0.0844 - mean_squared_error: 0.0112 - val_loss: 0.5325 - val_mean_squared_error: 0.3026\n",
      "Epoch 17/100\n",
      " - 0s - loss: 0.0839 - mean_squared_error: 0.0112 - val_loss: 0.5317 - val_mean_squared_error: 0.3022\n",
      "Epoch 18/100\n",
      " - 0s - loss: 0.0835 - mean_squared_error: 0.0111 - val_loss: 0.5311 - val_mean_squared_error: 0.3018\n",
      "Epoch 19/100\n",
      " - 0s - loss: 0.0833 - mean_squared_error: 0.0112 - val_loss: 0.5310 - val_mean_squared_error: 0.3018\n",
      "Epoch 20/100\n",
      " - 0s - loss: 0.0832 - mean_squared_error: 0.0112 - val_loss: 0.5310 - val_mean_squared_error: 0.3021\n",
      "Epoch 21/100\n",
      " - 0s - loss: 0.0831 - mean_squared_error: 0.0112 - val_loss: 0.5312 - val_mean_squared_error: 0.3024\n",
      "Epoch 22/100\n",
      " - 0s - loss: 0.0830 - mean_squared_error: 0.0112 - val_loss: 0.5309 - val_mean_squared_error: 0.3022\n",
      "Epoch 23/100\n",
      " - 0s - loss: 0.0830 - mean_squared_error: 0.0112 - val_loss: 0.5308 - val_mean_squared_error: 0.3021\n",
      "Epoch 24/100\n",
      " - 0s - loss: 0.0830 - mean_squared_error: 0.0112 - val_loss: 0.5308 - val_mean_squared_error: 0.3020\n",
      "Epoch 25/100\n",
      " - 0s - loss: 0.0830 - mean_squared_error: 0.0112 - val_loss: 0.5308 - val_mean_squared_error: 0.3020\n",
      "Epoch 26/100\n",
      " - 0s - loss: 0.0830 - mean_squared_error: 0.0112 - val_loss: 0.5310 - val_mean_squared_error: 0.3023\n",
      "Epoch 27/100\n",
      " - 0s - loss: 0.0829 - mean_squared_error: 0.0112 - val_loss: 0.5308 - val_mean_squared_error: 0.3021\n",
      "Epoch 28/100\n",
      " - 0s - loss: 0.0830 - mean_squared_error: 0.0112 - val_loss: 0.5308 - val_mean_squared_error: 0.3021\n",
      "Epoch 29/100\n",
      " - 0s - loss: 0.0830 - mean_squared_error: 0.0112 - val_loss: 0.5308 - val_mean_squared_error: 0.3021\n",
      "Epoch 30/100\n",
      " - 0s - loss: 0.0829 - mean_squared_error: 0.0112 - val_loss: 0.5309 - val_mean_squared_error: 0.3022\n",
      "Epoch 31/100\n",
      " - 0s - loss: 0.0828 - mean_squared_error: 0.0112 - val_loss: 0.5309 - val_mean_squared_error: 0.3022\n",
      "Epoch 32/100\n",
      " - 0s - loss: 0.0829 - mean_squared_error: 0.0112 - val_loss: 0.5309 - val_mean_squared_error: 0.3023\n",
      "Epoch 33/100\n",
      " - 0s - loss: 0.0828 - mean_squared_error: 0.0112 - val_loss: 0.5307 - val_mean_squared_error: 0.3020\n",
      "Epoch 34/100\n",
      " - 0s - loss: 0.0829 - mean_squared_error: 0.0112 - val_loss: 0.5308 - val_mean_squared_error: 0.3022\n",
      "Epoch 35/100\n",
      " - 0s - loss: 0.0828 - mean_squared_error: 0.0112 - val_loss: 0.5308 - val_mean_squared_error: 0.3022\n",
      "Epoch 36/100\n",
      " - 0s - loss: 0.0828 - mean_squared_error: 0.0112 - val_loss: 0.5306 - val_mean_squared_error: 0.3019\n",
      "Epoch 37/100\n",
      " - 0s - loss: 0.0828 - mean_squared_error: 0.0112 - val_loss: 0.5307 - val_mean_squared_error: 0.3021\n",
      "Epoch 38/100\n",
      " - 0s - loss: 0.0828 - mean_squared_error: 0.0112 - val_loss: 0.5306 - val_mean_squared_error: 0.3020\n",
      "Epoch 39/100\n",
      " - 0s - loss: 0.0828 - mean_squared_error: 0.0112 - val_loss: 0.5308 - val_mean_squared_error: 0.3022\n",
      "Epoch 40/100\n",
      " - 0s - loss: 0.0828 - mean_squared_error: 0.0112 - val_loss: 0.5308 - val_mean_squared_error: 0.3021\n",
      "Epoch 41/100\n",
      " - 0s - loss: 0.0827 - mean_squared_error: 0.0112 - val_loss: 0.5304 - val_mean_squared_error: 0.3018\n",
      "Epoch 42/100\n",
      " - 0s - loss: 0.0828 - mean_squared_error: 0.0112 - val_loss: 0.5306 - val_mean_squared_error: 0.3021\n",
      "Epoch 43/100\n",
      " - 0s - loss: 0.0828 - mean_squared_error: 0.0112 - val_loss: 0.5307 - val_mean_squared_error: 0.3021\n",
      "Epoch 44/100\n",
      " - 0s - loss: 0.0828 - mean_squared_error: 0.0112 - val_loss: 0.5307 - val_mean_squared_error: 0.3021\n",
      "Epoch 45/100\n",
      " - 0s - loss: 0.0828 - mean_squared_error: 0.0112 - val_loss: 0.5306 - val_mean_squared_error: 0.3020\n",
      "Epoch 46/100\n",
      " - 0s - loss: 0.0828 - mean_squared_error: 0.0112 - val_loss: 0.5307 - val_mean_squared_error: 0.3022\n",
      "Epoch 47/100\n",
      " - 0s - loss: 0.0827 - mean_squared_error: 0.0112 - val_loss: 0.5306 - val_mean_squared_error: 0.3020\n",
      "Epoch 48/100\n",
      " - 0s - loss: 0.0828 - mean_squared_error: 0.0112 - val_loss: 0.5307 - val_mean_squared_error: 0.3022\n",
      "Epoch 49/100\n",
      " - 0s - loss: 0.0827 - mean_squared_error: 0.0112 - val_loss: 0.5307 - val_mean_squared_error: 0.3022\n",
      "Epoch 50/100\n",
      " - 0s - loss: 0.0827 - mean_squared_error: 0.0112 - val_loss: 0.5306 - val_mean_squared_error: 0.3022\n",
      "Epoch 51/100\n",
      " - 0s - loss: 0.0827 - mean_squared_error: 0.0112 - val_loss: 0.5304 - val_mean_squared_error: 0.3020\n",
      "Epoch 52/100\n",
      " - 0s - loss: 0.0827 - mean_squared_error: 0.0112 - val_loss: 0.5306 - val_mean_squared_error: 0.3020\n",
      "Epoch 53/100\n",
      " - 0s - loss: 0.0828 - mean_squared_error: 0.0112 - val_loss: 0.5306 - val_mean_squared_error: 0.3021\n",
      "Epoch 54/100\n",
      " - 0s - loss: 0.0827 - mean_squared_error: 0.0112 - val_loss: 0.5307 - val_mean_squared_error: 0.3022\n",
      "Epoch 55/100\n",
      " - 0s - loss: 0.0827 - mean_squared_error: 0.0112 - val_loss: 0.5307 - val_mean_squared_error: 0.3023\n",
      "Epoch 56/100\n",
      " - 0s - loss: 0.0827 - mean_squared_error: 0.0112 - val_loss: 0.5306 - val_mean_squared_error: 0.3021\n",
      "Epoch 57/100\n",
      " - 0s - loss: 0.0827 - mean_squared_error: 0.0112 - val_loss: 0.5307 - val_mean_squared_error: 0.3023\n",
      "Epoch 58/100\n",
      " - 0s - loss: 0.0827 - mean_squared_error: 0.0112 - val_loss: 0.5308 - val_mean_squared_error: 0.3023\n",
      "Epoch 59/100\n",
      " - 0s - loss: 0.0827 - mean_squared_error: 0.0112 - val_loss: 0.5307 - val_mean_squared_error: 0.3022\n",
      "Epoch 60/100\n",
      " - 0s - loss: 0.0827 - mean_squared_error: 0.0112 - val_loss: 0.5306 - val_mean_squared_error: 0.3022\n",
      "Epoch 61/100\n",
      " - 0s - loss: 0.0827 - mean_squared_error: 0.0112 - val_loss: 0.5307 - val_mean_squared_error: 0.3022\n",
      "Epoch 62/100\n",
      " - 0s - loss: 0.0827 - mean_squared_error: 0.0112 - val_loss: 0.5306 - val_mean_squared_error: 0.3021\n",
      "Epoch 63/100\n",
      " - 0s - loss: 0.0827 - mean_squared_error: 0.0112 - val_loss: 0.5303 - val_mean_squared_error: 0.3019\n",
      "Epoch 64/100\n",
      " - 0s - loss: 0.0827 - mean_squared_error: 0.0112 - val_loss: 0.5304 - val_mean_squared_error: 0.3019\n",
      "Epoch 65/100\n",
      " - 0s - loss: 0.0827 - mean_squared_error: 0.0112 - val_loss: 0.5305 - val_mean_squared_error: 0.3020\n",
      "Epoch 66/100\n",
      " - 0s - loss: 0.0828 - mean_squared_error: 0.0112 - val_loss: 0.5307 - val_mean_squared_error: 0.3022\n",
      "Epoch 67/100\n",
      " - 0s - loss: 0.0827 - mean_squared_error: 0.0112 - val_loss: 0.5306 - val_mean_squared_error: 0.3021\n",
      "Epoch 68/100\n",
      " - 0s - loss: 0.0827 - mean_squared_error: 0.0112 - val_loss: 0.5306 - val_mean_squared_error: 0.3021\n",
      "Epoch 69/100\n",
      " - 0s - loss: 0.0827 - mean_squared_error: 0.0112 - val_loss: 0.5307 - val_mean_squared_error: 0.3022\n",
      "Epoch 70/100\n",
      " - 0s - loss: 0.0827 - mean_squared_error: 0.0112 - val_loss: 0.5307 - val_mean_squared_error: 0.3022\n",
      "Epoch 71/100\n",
      " - 0s - loss: 0.0826 - mean_squared_error: 0.0112 - val_loss: 0.5307 - val_mean_squared_error: 0.3023\n"
     ]
    },
    {
     "name": "stdout",
     "output_type": "stream",
     "text": [
      "Epoch 72/100\n",
      " - 0s - loss: 0.0826 - mean_squared_error: 0.0112 - val_loss: 0.5305 - val_mean_squared_error: 0.3021\n",
      "Epoch 73/100\n",
      " - 0s - loss: 0.0827 - mean_squared_error: 0.0112 - val_loss: 0.5307 - val_mean_squared_error: 0.3022\n",
      "Epoch 74/100\n",
      " - 0s - loss: 0.0827 - mean_squared_error: 0.0112 - val_loss: 0.5307 - val_mean_squared_error: 0.3022\n",
      "Epoch 75/100\n",
      " - 0s - loss: 0.0827 - mean_squared_error: 0.0112 - val_loss: 0.5307 - val_mean_squared_error: 0.3023\n",
      "Epoch 76/100\n",
      " - 0s - loss: 0.0827 - mean_squared_error: 0.0112 - val_loss: 0.5305 - val_mean_squared_error: 0.3021\n",
      "Epoch 77/100\n",
      " - 0s - loss: 0.0827 - mean_squared_error: 0.0112 - val_loss: 0.5305 - val_mean_squared_error: 0.3021\n",
      "Epoch 78/100\n",
      " - 0s - loss: 0.0827 - mean_squared_error: 0.0112 - val_loss: 0.5306 - val_mean_squared_error: 0.3022\n",
      "Epoch 79/100\n",
      " - 0s - loss: 0.0827 - mean_squared_error: 0.0112 - val_loss: 0.5306 - val_mean_squared_error: 0.3022\n",
      "Epoch 80/100\n",
      " - 0s - loss: 0.0827 - mean_squared_error: 0.0112 - val_loss: 0.5306 - val_mean_squared_error: 0.3021\n",
      "Epoch 81/100\n",
      " - 0s - loss: 0.0827 - mean_squared_error: 0.0112 - val_loss: 0.5306 - val_mean_squared_error: 0.3021\n",
      "Epoch 82/100\n",
      " - 0s - loss: 0.0827 - mean_squared_error: 0.0112 - val_loss: 0.5305 - val_mean_squared_error: 0.3021\n",
      "Epoch 83/100\n",
      " - 0s - loss: 0.0827 - mean_squared_error: 0.0112 - val_loss: 0.5306 - val_mean_squared_error: 0.3022\n",
      "Epoch 84/100\n",
      " - 0s - loss: 0.0826 - mean_squared_error: 0.0112 - val_loss: 0.5304 - val_mean_squared_error: 0.3020\n",
      "Epoch 85/100\n",
      " - 0s - loss: 0.0827 - mean_squared_error: 0.0112 - val_loss: 0.5306 - val_mean_squared_error: 0.3022\n",
      "Epoch 86/100\n",
      " - 0s - loss: 0.0827 - mean_squared_error: 0.0112 - val_loss: 0.5306 - val_mean_squared_error: 0.3022\n",
      "Epoch 87/100\n",
      " - 0s - loss: 0.0827 - mean_squared_error: 0.0112 - val_loss: 0.5306 - val_mean_squared_error: 0.3021\n",
      "Epoch 88/100\n",
      " - 0s - loss: 0.0827 - mean_squared_error: 0.0112 - val_loss: 0.5306 - val_mean_squared_error: 0.3022\n",
      "Epoch 89/100\n",
      " - 0s - loss: 0.0826 - mean_squared_error: 0.0112 - val_loss: 0.5305 - val_mean_squared_error: 0.3021\n",
      "Epoch 90/100\n",
      " - 0s - loss: 0.0827 - mean_squared_error: 0.0112 - val_loss: 0.5306 - val_mean_squared_error: 0.3021\n",
      "Epoch 91/100\n",
      " - 0s - loss: 0.0827 - mean_squared_error: 0.0112 - val_loss: 0.5305 - val_mean_squared_error: 0.3020\n",
      "Epoch 92/100\n",
      " - 0s - loss: 0.0827 - mean_squared_error: 0.0112 - val_loss: 0.5305 - val_mean_squared_error: 0.3021\n",
      "Epoch 93/100\n",
      " - 0s - loss: 0.0827 - mean_squared_error: 0.0112 - val_loss: 0.5306 - val_mean_squared_error: 0.3023\n",
      "Epoch 94/100\n",
      " - 0s - loss: 0.0827 - mean_squared_error: 0.0112 - val_loss: 0.5307 - val_mean_squared_error: 0.3022\n",
      "Epoch 95/100\n",
      " - 0s - loss: 0.0827 - mean_squared_error: 0.0112 - val_loss: 0.5307 - val_mean_squared_error: 0.3022\n",
      "Epoch 96/100\n",
      " - 0s - loss: 0.0828 - mean_squared_error: 0.0112 - val_loss: 0.5307 - val_mean_squared_error: 0.3022\n",
      "Epoch 97/100\n",
      " - 0s - loss: 0.0827 - mean_squared_error: 0.0112 - val_loss: 0.5307 - val_mean_squared_error: 0.3022\n",
      "Epoch 98/100\n",
      " - 0s - loss: 0.0826 - mean_squared_error: 0.0112 - val_loss: 0.5304 - val_mean_squared_error: 0.3020\n",
      "Epoch 99/100\n",
      " - 0s - loss: 0.0827 - mean_squared_error: 0.0112 - val_loss: 0.5304 - val_mean_squared_error: 0.3018\n",
      "Epoch 100/100\n",
      " - 0s - loss: 0.0828 - mean_squared_error: 0.0112 - val_loss: 0.5307 - val_mean_squared_error: 0.3021\n"
     ]
    },
    {
     "data": {
      "image/png": "[encoded data removed]",
      "text/plain": [
       "<Figure size 432x288 with 1 Axes>"
      ]
     },
     "metadata": {
      "needs_background": "light"
     },
     "output_type": "display_data"
    }
   ],
   "source": [
    "history = model.fit(trainX, trainY, epochs=100, batch_size=100, validation_data=(testX, testY), verbose=2, shuffle=False)\n",
    "pyplot.plot(history.history['loss'], label='train')\n",
    "pyplot.plot(history.history['val_loss'], label='test')\n",
    "#pyplot.plot(history.history['mean_squared_error'],label='mse')\n",
    "pyplot.legend()\n",
    "pyplot.show()"
   ]
  },
  {
   "cell_type": "code",
   "execution_count": 76,
   "metadata": {},
   "outputs": [
    {
     "name": "stdout",
     "output_type": "stream",
     "text": [
      "Test RMSE: 1286.253\n"
     ]
    }
   ],
   "source": [
    "yhat = model.predict(testX)\n",
    "testX = testX.reshape((testX.shape[0], testX.shape[2]))\n",
    "# invert scaling for forecast\n",
    "inv_yhat = concatenate((yhat, testX[:, 1:]), axis=1)\n",
    "inv_yhat = scaler.inverse_transform(inv_yhat)\n",
    "inv_yhat = inv_yhat[:,0]\n",
    "# invert scaling for actual\n",
    "testY = testY.reshape((len(testY), 1))\n",
    "inv_y = concatenate((testY, testX[:, 1:]), axis=1)\n",
    "inv_y = scaler.inverse_transform(inv_y)\n",
    "inv_y = inv_y[:,0]\n",
    "# calculate RMSE\n",
    "rmse = sqrt(mean_squared_error(inv_y, inv_yhat))\n",
    "print('Test RMSE: %.3f' % rmse)"
   ]
  },
  {
   "cell_type": "code",
   "execution_count": 78,
   "metadata": {},
   "outputs": [],
   "source": [
    "inv_yhat = inv_yhat.reshape((147,1))\n",
    "inv_y = inv_y.reshape((147,1))"
   ]
  },
  {
   "cell_type": "code",
   "execution_count": 79,
   "metadata": {},
   "outputs": [],
   "source": [
    "inv_yhat = pd.DataFrame(inv_yhat)\n",
    "inv_y = pd.DataFrame(inv_y)"
   ]
  },
  {
   "cell_type": "code",
   "execution_count": 81,
   "metadata": {},
   "outputs": [
    {
     "data": {
      "text/plain": [
       "[<matplotlib.lines.Line2D at 0x1c82c423d30>]"
      ]
     },
     "execution_count": 81,
     "metadata": {},
     "output_type": "execute_result"
    },
    {
     "data": {
      "image/png": "[encoded data removed]",
      "text/plain": [
       "<Figure size 432x288 with 1 Axes>"
      ]
     },
     "metadata": {
      "needs_background": "light"
     },
     "output_type": "display_data"
    }
   ],
   "source": [
    "pyplot.plot(inv_yhat,label='predicted')\n",
    "pyplot.plot(inv_y,label='actual')\n",
    "#plot1, = plt.plot(a,b)"
   ]
  },
  {
   "cell_type": "code",
   "execution_count": 82,
   "metadata": {},
   "outputs": [
    {
     "name": "stderr",
     "output_type": "stream",
     "text": [
      "No handles with labels found to put in legend.\n"
     ]
    },
    {
     "data": {
      "image/png": "[encoded data removed]",
      "text/plain": [
       "<Figure size 432x288 with 1 Axes>"
      ]
     },
     "metadata": {
      "needs_background": "light"
     },
     "output_type": "display_data"
    }
   ],
   "source": [
    "pyplot.legend()\n",
    "pyplot.show()"
   ]
  },
  {
   "cell_type": "code",
   "execution_count": 83,
   "metadata": {},
   "outputs": [],
   "source": [
    "errr = inv_y-inv_yhat"
   ]
  },
  {
   "cell_type": "code",
   "execution_count": 84,
   "metadata": {},
   "outputs": [
    {
     "data": {
      "image/png": "[encoded data removed]",
      "text/plain": [
       "<Figure size 432x288 with 1 Axes>"
      ]
     },
     "metadata": {
      "needs_background": "light"
     },
     "output_type": "display_data"
    }
   ],
   "source": [
    "errr.plot()\n",
    "pyplot.show()"
   ]
  },
  {
   "cell_type": "code",
   "execution_count": 85,
   "metadata": {},
   "outputs": [
    {
     "data": {
      "text/html": [
       "<div>\n",
       "<style scoped>\n",
       "    .dataframe tbody tr th:only-of-type {\n",
       "        vertical-align: middle;\n",
       "    }\n",
       "\n",
       "    .dataframe tbody tr th {\n",
       "        vertical-align: top;\n",
       "    }\n",
       "\n",
       "    .dataframe thead th {\n",
       "        text-align: right;\n",
       "    }\n",
       "</style>\n",
       "<table border=\"1\" class=\"dataframe\">\n",
       "  <thead>\n",
       "    <tr style=\"text-align: right;\">\n",
       "      <th></th>\n",
       "      <th>0</th>\n",
       "    </tr>\n",
       "  </thead>\n",
       "  <tbody>\n",
       "    <tr>\n",
       "      <th>count</th>\n",
       "      <td>147.000000</td>\n",
       "    </tr>\n",
       "    <tr>\n",
       "      <th>mean</th>\n",
       "      <td>1230.764526</td>\n",
       "    </tr>\n",
       "    <tr>\n",
       "      <th>std</th>\n",
       "      <td>374.996033</td>\n",
       "    </tr>\n",
       "    <tr>\n",
       "      <th>min</th>\n",
       "      <td>443.383789</td>\n",
       "    </tr>\n",
       "    <tr>\n",
       "      <th>25%</th>\n",
       "      <td>1052.113281</td>\n",
       "    </tr>\n",
       "    <tr>\n",
       "      <th>50%</th>\n",
       "      <td>1185.064453</td>\n",
       "    </tr>\n",
       "    <tr>\n",
       "      <th>75%</th>\n",
       "      <td>1482.392090</td>\n",
       "    </tr>\n",
       "    <tr>\n",
       "      <th>max</th>\n",
       "      <td>1928.766602</td>\n",
       "    </tr>\n",
       "  </tbody>\n",
       "</table>\n",
       "</div>"
      ],
      "text/plain": [
       "                 0\n",
       "count   147.000000\n",
       "mean   1230.764526\n",
       "std     374.996033\n",
       "min     443.383789\n",
       "25%    1052.113281\n",
       "50%    1185.064453\n",
       "75%    1482.392090\n",
       "max    1928.766602"
      ]
     },
     "execution_count": 85,
     "metadata": {},
     "output_type": "execute_result"
    }
   ],
   "source": [
    "errr.describe()"
   ]
  },
  {
   "cell_type": "code",
   "execution_count": 86,
   "metadata": {},
   "outputs": [
    {
     "name": "stdout",
     "output_type": "stream",
     "text": [
      "_________________________________________________________________\n",
      "Layer (type)                 Output Shape              Param #   \n",
      "=================================================================\n",
      "lstm_4 (LSTM)                (None, 500)               1006000   \n",
      "_________________________________________________________________\n",
      "dense_4 (Dense)              (None, 1)                 501       \n",
      "=================================================================\n",
      "Total params: 1,006,501\n",
      "Trainable params: 1,006,501\n",
      "Non-trainable params: 0\n",
      "_________________________________________________________________\n"
     ]
    }
   ],
   "source": [
    "plot_model(model, to_file='model.png',show_shapes=True,show_layer_names=True)\n",
    "model.summary()"
   ]
  }
 ],
 "metadata": {
  "anaconda-cloud": {},
  "kernelspec": {
   "display_name": "Python 3",
   "language": "python",
   "name": "python3"
  },
  "language_info": {
   "codemirror_mode": {
    "name": "ipython",
    "version": 3
   },
   "file_extension": ".py",
   "mimetype": "text/x-python",
   "name": "python",
   "nbconvert_exporter": "python",
   "pygments_lexer": "ipython3",
   "version": "3.6.7"
  },
  "nbpresent": {
   "slides": {
    "2f6752be-0ed8-440b-b3f4-97a45f225158": {
     "id": "2f6752be-0ed8-440b-b3f4-97a45f225158",
     "prev": null,
     "regions": {
      "f2051422-9c14-45a1-995a-512084e6a5b5": {
       "attrs": {
        "height": 1,
        "width": 1,
        "x": 0,
        "y": 0
       },
       "content": {
        "cell": "01ac3bbb-1083-4fd8-b71a-9ceb84cd8a04",
        "part": "whole"
       },
       "id": "f2051422-9c14-45a1-995a-512084e6a5b5"
      }
     }
    }
   },
   "themes": {
    "default": "5126d5a7-8267-498f-909d-b3c16b14aedf",
    "theme": {
     "5126d5a7-8267-498f-909d-b3c16b14aedf": {
      "backgrounds": {
       "dc7afa04-bf90-40b1-82a5-726e3cff5267": {
        "background-color": "31af15d2-7e15-44c5-ab5e-e04b16a89eff",
        "id": "dc7afa04-bf90-40b1-82a5-726e3cff5267"
       }
      },
      "id": "5126d5a7-8267-498f-909d-b3c16b14aedf",
      "palette": {
       "19cc588f-0593-49c9-9f4b-e4d7cc113b1c": {
        "id": "19cc588f-0593-49c9-9f4b-e4d7cc113b1c",
        "rgb": [
         252,
         252,
         252
        ]
       },
       "31af15d2-7e15-44c5-ab5e-e04b16a89eff": {
        "id": "31af15d2-7e15-44c5-ab5e-e04b16a89eff",
        "rgb": [
         68,
         68,
         68
        ]
       },
       "50f92c45-a630-455b-aec3-788680ec7410": {
        "id": "50f92c45-a630-455b-aec3-788680ec7410",
        "rgb": [
         197,
         226,
         245
        ]
       },
       "c5cc3653-2ee1-402a-aba2-7caae1da4f6c": {
        "id": "c5cc3653-2ee1-402a-aba2-7caae1da4f6c",
        "rgb": [
         43,
         126,
         184
        ]
       },
       "efa7f048-9acb-414c-8b04-a26811511a21": {
        "id": "efa7f048-9acb-414c-8b04-a26811511a21",
        "rgb": [
         25.118061674008803,
         73.60176211453744,
         107.4819383259912
        ]
       }
      },
      "rules": {
       "a": {
        "color": "19cc588f-0593-49c9-9f4b-e4d7cc113b1c"
       },
       "blockquote": {
        "color": "50f92c45-a630-455b-aec3-788680ec7410",
        "font-size": 3
       },
       "code": {
        "font-family": "Anonymous Pro"
       },
       "h1": {
        "color": "19cc588f-0593-49c9-9f4b-e4d7cc113b1c",
        "font-family": "Merriweather",
        "font-size": 8
       },
       "h2": {
        "color": "19cc588f-0593-49c9-9f4b-e4d7cc113b1c",
        "font-family": "Merriweather",
        "font-size": 6
       },
       "h3": {
        "color": "50f92c45-a630-455b-aec3-788680ec7410",
        "font-family": "Lato",
        "font-size": 5.5
       },
       "h4": {
        "color": "c5cc3653-2ee1-402a-aba2-7caae1da4f6c",
        "font-family": "Lato",
        "font-size": 5
       },
       "h5": {
        "font-family": "Lato"
       },
       "h6": {
        "font-family": "Lato"
       },
       "h7": {
        "font-family": "Lato"
       },
       "li": {
        "color": "50f92c45-a630-455b-aec3-788680ec7410",
        "font-size": 3.25
       },
       "pre": {
        "font-family": "Anonymous Pro",
        "font-size": 4
       }
      },
      "text-base": {
       "color": "19cc588f-0593-49c9-9f4b-e4d7cc113b1c",
       "font-family": "Lato",
       "font-size": 4
      }
     }
    }
   }
  },
  "varInspector": {
   "cols": {
    "lenName": 16,
    "lenType": 16,
    "lenVar": 40
   },
   "kernels_config": {
    "python": {
     "delete_cmd_postfix": "",
     "delete_cmd_prefix": "del ",
     "library": "var_list.py",
     "varRefreshCmd": "print(var_dic_list())"
    },
    "r": {
     "delete_cmd_postfix": ") ",
     "delete_cmd_prefix": "rm(",
     "library": "var_list.r",
     "varRefreshCmd": "cat(var_dic_list()) "
    }
   },
   "types_to_exclude": [
    "module",
    "function",
    "builtin_function_or_method",
    "instance",
    "_Feature"
   ],
   "window_display": false
  }
 },
 "nbformat": 4,
 "nbformat_minor": 1
}
